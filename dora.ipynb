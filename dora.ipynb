{
 "cells": [
  {
   "cell_type": "code",
   "execution_count": 1,
   "metadata": {},
   "outputs": [],
   "source": [
    "import polars as pl\n",
    "from pathlib import Path\n",
    "from interview import Penner_solution as ps"
   ]
  },
  {
   "cell_type": "code",
   "execution_count": 2,
   "metadata": {},
   "outputs": [],
   "source": [
    "path = Path.cwd().joinpath(\"data/test_subset.csv\")\n"
   ]
  },
  {
   "cell_type": "code",
   "execution_count": 3,
   "metadata": {},
   "outputs": [],
   "source": [
    "# df=pl.read_csv(path)\n",
    "# df"
   ]
  },
  {
   "cell_type": "code",
   "execution_count": 4,
   "metadata": {},
   "outputs": [],
   "source": [
    "ch = ps.ChicagoWeather(path)"
   ]
  },
  {
   "cell_type": "code",
   "execution_count": 5,
   "metadata": {},
   "outputs": [],
   "source": [
    "df = ch._get_essentials_from_source(ch.path, ch.target_col)\n",
    "df = ch._process_time_columns(df)"
   ]
  },
  {
   "cell_type": "code",
   "execution_count": 6,
   "metadata": {},
   "outputs": [
    {
     "data": {
      "text/plain": [
       "['Station Name', 'Air Temperature', 'Date', 'time_12h', 'time_24h']"
      ]
     },
     "execution_count": 6,
     "metadata": {},
     "output_type": "execute_result"
    }
   ],
   "source": [
    "df.columns"
   ]
  },
  {
   "cell_type": "code",
   "execution_count": 7,
   "metadata": {},
   "outputs": [],
   "source": [
    "df = df.with_row_index()"
   ]
  },
  {
   "cell_type": "code",
   "execution_count": 10,
   "metadata": {},
   "outputs": [],
   "source": [
    "ddf = df.filter(pl.col(\"Date\").str.contains(\"12/30/2016\")).filter(pl.col(\"Station Name\").str.contains(\"Foster\"))"
   ]
  },
  {
   "cell_type": "code",
   "execution_count": 11,
   "metadata": {},
   "outputs": [
    {
     "data": {
      "text/plain": [
       "<bound method DataFrame.head of shape: (24, 6)\n",
       "┌───────┬────────────────────────┬─────────────────┬────────────┬─────────────┬──────────┐\n",
       "│ index ┆ Station Name           ┆ Air Temperature ┆ Date       ┆ time_12h    ┆ time_24h │\n",
       "│ ---   ┆ ---                    ┆ ---             ┆ ---        ┆ ---         ┆ ---      │\n",
       "│ u32   ┆ str                    ┆ f64             ┆ str        ┆ str         ┆ i32      │\n",
       "╞═══════╪════════════════════════╪═════════════════╪════════════╪═════════════╪══════════╡\n",
       "│ 72    ┆ Foster Weather Station ┆ 3.17            ┆ 12/30/2016 ┆ 11:00:00 PM ┆ 2300     │\n",
       "│ 75    ┆ Foster Weather Station ┆ 2.0             ┆ 12/30/2016 ┆ 10:00:00 PM ┆ 2200     │\n",
       "│ 78    ┆ Foster Weather Station ┆ 1.17            ┆ 12/30/2016 ┆ 09:00:00 PM ┆ 2100     │\n",
       "│ 81    ┆ Foster Weather Station ┆ 0.78            ┆ 12/30/2016 ┆ 08:00:00 PM ┆ 2000     │\n",
       "│ 84    ┆ Foster Weather Station ┆ 0.06            ┆ 12/30/2016 ┆ 07:00:00 PM ┆ 1900     │\n",
       "│ …     ┆ …                      ┆ …               ┆ …          ┆ …           ┆ …        │\n",
       "│ 129   ┆ Foster Weather Station ┆ -2.0            ┆ 12/30/2016 ┆ 04:00:00 AM ┆ 400      │\n",
       "│ 132   ┆ Foster Weather Station ┆ -1.28           ┆ 12/30/2016 ┆ 03:00:00 AM ┆ 300      │\n",
       "│ 135   ┆ Foster Weather Station ┆ -1.06           ┆ 12/30/2016 ┆ 02:00:00 AM ┆ 200      │\n",
       "│ 138   ┆ Foster Weather Station ┆ -0.39           ┆ 12/30/2016 ┆ 01:00:00 AM ┆ 100      │\n",
       "│ 141   ┆ Foster Weather Station ┆ 0.06            ┆ 12/30/2016 ┆ 12:00:00 AM ┆ 2400     │\n",
       "└───────┴────────────────────────┴─────────────────┴────────────┴─────────────┴──────────┘>"
      ]
     },
     "execution_count": 11,
     "metadata": {},
     "output_type": "execute_result"
    }
   ],
   "source": [
    "ddf.head"
   ]
  },
  {
   "cell_type": "code",
   "execution_count": 29,
   "metadata": {},
   "outputs": [
    {
     "data": {
      "text/html": [
       "<div><style>\n",
       ".dataframe > thead > tr,\n",
       ".dataframe > tbody > tr {\n",
       "  text-align: right;\n",
       "  white-space: pre-wrap;\n",
       "}\n",
       "</style>\n",
       "<small>shape: (6, 6)</small><table border=\"1\" class=\"dataframe\"><thead><tr><th>Station Name</th><th>Date</th><th>Min Temp</th><th>Max Temp</th><th>First Temp</th><th>Last Temp</th></tr><tr><td>str</td><td>str</td><td>f64</td><td>f64</td><td>f64</td><td>f64</td></tr></thead><tbody><tr><td>&quot;63rd Street Weather Station&quot;</td><td>&quot;12/30/2016&quot;</td><td>-2.8</td><td>3.6</td><td>0.3</td><td>0.6</td></tr><tr><td>&quot;Foster Weather Station&quot;</td><td>&quot;12/30/2016&quot;</td><td>-3.5</td><td>3.17</td><td>-0.39</td><td>0.06</td></tr><tr><td>&quot;Oak Street Weather Station&quot;</td><td>&quot;12/30/2016&quot;</td><td>-2.3</td><td>4.2</td><td>0.7</td><td>0.8</td></tr><tr><td>&quot;63rd Street Weather Station&quot;</td><td>&quot;12/31/2016&quot;</td><td>-1.3</td><td>5.6</td><td>4.4</td><td>3.5</td></tr><tr><td>&quot;Foster Weather Station&quot;</td><td>&quot;12/31/2016&quot;</td><td>-1.56</td><td>5.17</td><td>3.67</td><td>3.0</td></tr><tr><td>&quot;Oak Street Weather Station&quot;</td><td>&quot;12/31/2016&quot;</td><td>-0.3</td><td>6.3</td><td>4.9</td><td>4.1</td></tr></tbody></table></div>"
      ],
      "text/plain": [
       "shape: (6, 6)\n",
       "┌─────────────────────────────┬────────────┬──────────┬──────────┬────────────┬───────────┐\n",
       "│ Station Name                ┆ Date       ┆ Min Temp ┆ Max Temp ┆ First Temp ┆ Last Temp │\n",
       "│ ---                         ┆ ---        ┆ ---      ┆ ---      ┆ ---        ┆ ---       │\n",
       "│ str                         ┆ str        ┆ f64      ┆ f64      ┆ f64        ┆ f64       │\n",
       "╞═════════════════════════════╪════════════╪══════════╪══════════╪════════════╪═══════════╡\n",
       "│ 63rd Street Weather Station ┆ 12/30/2016 ┆ -2.8     ┆ 3.6      ┆ 0.3        ┆ 0.6       │\n",
       "│ Foster Weather Station      ┆ 12/30/2016 ┆ -3.5     ┆ 3.17     ┆ -0.39      ┆ 0.06      │\n",
       "│ Oak Street Weather Station  ┆ 12/30/2016 ┆ -2.3     ┆ 4.2      ┆ 0.7        ┆ 0.8       │\n",
       "│ 63rd Street Weather Station ┆ 12/31/2016 ┆ -1.3     ┆ 5.6      ┆ 4.4        ┆ 3.5       │\n",
       "│ Foster Weather Station      ┆ 12/31/2016 ┆ -1.56    ┆ 5.17     ┆ 3.67       ┆ 3.0       │\n",
       "│ Oak Street Weather Station  ┆ 12/31/2016 ┆ -0.3     ┆ 6.3      ┆ 4.9        ┆ 4.1       │\n",
       "└─────────────────────────────┴────────────┴──────────┴──────────┴────────────┴───────────┘"
      ]
     },
     "execution_count": 29,
     "metadata": {},
     "output_type": "execute_result"
    }
   ],
   "source": [
    "df.group_by(\"Station Name\", \"Date\").agg(\n",
    "    pl.min(\"Air Temperature\").alias(\"Min Temp\"),\n",
    "    pl.max(\"Air Temperature\").alias(\"Max Temp\"),\n",
    "    pl.col(\"Air Temperature\").filter(pl.col(\"time_24h\") == pl.min(\"time_24h\")).first().alias(\"First Temp\"),\n",
    "    pl.col(\"Air Temperature\").filter(pl.col(\"time_24h\") == pl.max(\"time_24h\")).first().alias(\"Last Temp\"),\n",
    ").sort(\"Date\", \"Station Name\")"
   ]
  },
  {
   "cell_type": "code",
   "execution_count": 24,
   "metadata": {},
   "outputs": [
    {
     "data": {
      "text/html": [
       "<div><style>\n",
       ".dataframe > thead > tr,\n",
       ".dataframe > tbody > tr {\n",
       "  text-align: right;\n",
       "  white-space: pre-wrap;\n",
       "}\n",
       "</style>\n",
       "<small>shape: (6, 3)</small><table border=\"1\" class=\"dataframe\"><thead><tr><th>Station Name</th><th>Date</th><th>Air Temperature</th></tr><tr><td>str</td><td>str</td><td>f64</td></tr></thead><tbody><tr><td>&quot;Foster Weather Station&quot;</td><td>&quot;12/30/2016&quot;</td><td>3.17</td></tr><tr><td>&quot;63rd Street Weather Station&quot;</td><td>&quot;12/30/2016&quot;</td><td>3.6</td></tr><tr><td>&quot;Oak Street Weather Station&quot;</td><td>&quot;12/30/2016&quot;</td><td>4.2</td></tr><tr><td>&quot;63rd Street Weather Station&quot;</td><td>&quot;12/31/2016&quot;</td><td>5.6</td></tr><tr><td>&quot;Oak Street Weather Station&quot;</td><td>&quot;12/31/2016&quot;</td><td>6.3</td></tr><tr><td>&quot;Foster Weather Station&quot;</td><td>&quot;12/31/2016&quot;</td><td>5.17</td></tr></tbody></table></div>"
      ],
      "text/plain": [
       "shape: (6, 3)\n",
       "┌─────────────────────────────┬────────────┬─────────────────┐\n",
       "│ Station Name                ┆ Date       ┆ Air Temperature │\n",
       "│ ---                         ┆ ---        ┆ ---             │\n",
       "│ str                         ┆ str        ┆ f64             │\n",
       "╞═════════════════════════════╪════════════╪═════════════════╡\n",
       "│ Foster Weather Station      ┆ 12/30/2016 ┆ 3.17            │\n",
       "│ 63rd Street Weather Station ┆ 12/30/2016 ┆ 3.6             │\n",
       "│ Oak Street Weather Station  ┆ 12/30/2016 ┆ 4.2             │\n",
       "│ 63rd Street Weather Station ┆ 12/31/2016 ┆ 5.6             │\n",
       "│ Oak Street Weather Station  ┆ 12/31/2016 ┆ 6.3             │\n",
       "│ Foster Weather Station      ┆ 12/31/2016 ┆ 5.17            │\n",
       "└─────────────────────────────┴────────────┴─────────────────┘"
      ]
     },
     "execution_count": 24,
     "metadata": {},
     "output_type": "execute_result"
    }
   ],
   "source": [
    "df.group_by(\"Station Name\", \"Date\").agg(\n",
    "    pl.max(\"Air Temperature\")\n",
    ")"
   ]
  },
  {
   "cell_type": "code",
   "execution_count": null,
   "metadata": {},
   "outputs": [],
   "source": [
    "t_his = df.group_by(\"Station Name\", \"Date\", \"index\").agg(pl.max(\"Air Temperature\")).select(\"index\", \"Air Temperature\")\n",
    "t_los = df.group_by(\"Station Name\", \"Date\", \"index\").agg(pl.min(\"Air Temperature\")).select(\"index\", \"Air Temperature\")\n",
    "print(t_his)\n",
    "print(t_los)"
   ]
  },
  {
   "cell_type": "code",
   "execution_count": null,
   "metadata": {},
   "outputs": [],
   "source": [
    "df.group_by(\"Station Name\", \"Date\").agg(pl.col(\"Air Temperature\").first(), pl.max(\"time_24h\"))"
   ]
  }
 ],
 "metadata": {
  "kernelspec": {
   "display_name": ".aquanaut",
   "language": "python",
   "name": "python3"
  },
  "language_info": {
   "codemirror_mode": {
    "name": "ipython",
    "version": 3
   },
   "file_extension": ".py",
   "mimetype": "text/x-python",
   "name": "python",
   "nbconvert_exporter": "python",
   "pygments_lexer": "ipython3",
   "version": "3.13.0"
  }
 },
 "nbformat": 4,
 "nbformat_minor": 2
}
